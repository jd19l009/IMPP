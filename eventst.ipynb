{
  "nbformat": 4,
  "nbformat_minor": 0,
  "metadata": {
    "colab": {
      "name": "eventst.ipynb",
      "provenance": [],
      "collapsed_sections": [],
      "mount_file_id": "1pmLn12g9OTblJDVlp-14MRJgJrh1Ny0f",
      "authorship_tag": "ABX9TyPpKWL0ML6MdjSlvHDW1EWJ",
      "include_colab_link": true
    },
    "kernelspec": {
      "name": "python3",
      "display_name": "Python 3"
    },
    "language_info": {
      "name": "python"
    }
  },
  "cells": [
    {
      "cell_type": "markdown",
      "metadata": {
        "id": "view-in-github",
        "colab_type": "text"
      },
      "source": [
        "<a href=\"https://colab.research.google.com/github/jd19l009/IMPP/blob/main/eventst.ipynb\" target=\"_parent\"><img src=\"https://colab.research.google.com/assets/colab-badge.svg\" alt=\"Open In Colab\"/></a>"
      ]
    },
    {
      "cell_type": "code",
      "execution_count": null,
      "metadata": {
        "id": "MMFaN7_y4x4I"
      },
      "outputs": [],
      "source": [
        "#使用ライブラリーの読み込み\n",
        "import datetime as dt\n",
        "import numpy as np\n",
        "import pandas as pd\n",
        "import pickle as pk\n",
        "import numpy as np\n",
        "import pandas as pd\n",
        "from sklearn import linear_model\n",
        "import matplotlib.pyplot as plt\n",
        "from IPython.display import set_matplotlib_formats\n",
        "from pandas_datareader.stooq import StooqDailyReader"
      ]
    },
    {
      "cell_type": "code",
      "source": [
        "#ディレクトリーの指定\n",
        "dir = '/content/drive/MyDrive/Data/'\n",
        "\n",
        "#イベント条件の入力\n",
        "c_name = '4528.JP'\n",
        "market_i = '^TPX'\n",
        "e_day = dt.date(2020,6,5)\n",
        "eve_w = [-1, 5]\n",
        "gap = 20\n",
        "est_w = 100\n",
        "\n",
        "#株価データの取得期間の設定\n",
        "start = dt.date(2006, 11, 12)\n",
        "end = dt.date(2022, 5, 24)"
      ],
      "metadata": {
        "id": "8KF20PlX44fQ"
      },
      "execution_count": null,
      "outputs": []
    },
    {
      "cell_type": "code",
      "source": [
        "#ターゲット及びインデックスの株価データの取得及び保存\n",
        "stooq = StooqDailyReader(c_name, start, end)\n",
        "data = stooq.read()\n",
        "data.to_pickle(dir + c_name)\n",
        "stooq = StooqDailyReader(market_i, start, end)\n",
        "data = stooq.read()\n",
        "data.to_pickle(dir + market_i)"
      ],
      "metadata": {
        "id": "rsF0QwMe47UJ"
      },
      "execution_count": null,
      "outputs": []
    },
    {
      "cell_type": "code",
      "source": [
        "#ターゲット及びインデックスの株価データの読み込み\n",
        "with open(dir + c_name, 'rb') as d:\n",
        "  df_t = pk.load(d)\n",
        "with open(dir + market_i, 'rb') as d:\n",
        "  df_m = pk.load(d)\n",
        "\n",
        "# print(df_t)\n",
        "# print(df_m)"
      ],
      "metadata": {
        "id": "WSc_kH8n5DHA"
      },
      "execution_count": null,
      "outputs": []
    },
    {
      "cell_type": "code",
      "source": [
        "#データフレームに別INDEXを付与\n",
        "df_t.reset_index(inplace = True)\n",
        "df_m.reset_index(inplace = True)\n",
        "\n",
        "# print(df_t)\n",
        "# print(df_m)"
      ],
      "metadata": {
        "id": "Ea_cjyHD5IwE"
      },
      "execution_count": null,
      "outputs": []
    },
    {
      "cell_type": "code",
      "source": [
        "#最終列にリターンを追加\n",
        "dt_t = df_t[\"Return\"] = ( df_t['Close'] - df_t['Close'].shift(1)) /df_t['Close'].shift(1)\n",
        "dt_m = df_m[\"Return\"] = ( df_m['Close'] - df_m['Close'].shift(1)) /df_m['Close'].shift(1)\n",
        "\n",
        "print(df_t)\n",
        "print(df_m)"
      ],
      "metadata": {
        "colab": {
          "base_uri": "https://localhost:8080/"
        },
        "id": "rMhlep1q5Lmq",
        "outputId": "f40be9bd-e7d1-4f32-adf0-54e6b1c62d9f"
      },
      "execution_count": null,
      "outputs": [
        {
          "output_type": "stream",
          "name": "stdout",
          "text": [
            "           Date     Open     High      Low    Close   Volume    Return\n",
            "0    2022-05-23  3538.00  3586.00  3529.00  3567.00  1589300       NaN\n",
            "1    2022-05-20  3484.00  3502.00  3450.00  3489.00  1641500 -0.021867\n",
            "2    2022-05-19  3422.00  3488.00  3417.00  3473.00  1342200 -0.004586\n",
            "3    2022-05-18  3461.00  3478.00  3430.00  3467.00  1649300 -0.001728\n",
            "4    2022-05-17  3375.00  3417.00  3367.00  3407.00  1387600 -0.017306\n",
            "...         ...      ...      ...      ...      ...      ...       ...\n",
            "3788 2006-11-17  1004.36  1020.42  1002.54  1016.81   973012  0.005359\n",
            "3789 2006-11-16  1000.74  1009.78  1000.74  1004.36   719378 -0.012244\n",
            "3790 2006-11-15  1004.36  1011.39   997.13  1000.74  1368973 -0.003604\n",
            "3791 2006-11-14  1006.14  1011.39  1004.36  1004.36   796353  0.003617\n",
            "3792 2006-11-13  1000.74  1006.14   988.27  1006.14   827914  0.001772\n",
            "\n",
            "[3793 rows x 7 columns]\n",
            "           Date     Open     High      Low    Close        Volume    Return\n",
            "0    2022-05-24  1896.07  1896.82  1878.26  1878.26           NaN       NaN\n",
            "1    2022-05-23  1892.73  1897.95  1886.94  1894.57  1.156524e+09  0.008684\n",
            "2    2022-05-20  1861.87  1878.83  1859.88  1877.37  1.320504e+09 -0.009079\n",
            "3    2022-05-19  1850.82  1862.79  1840.54  1860.08  1.329680e+09 -0.009210\n",
            "4    2022-05-18  1878.94  1890.60  1874.37  1884.69  1.330581e+09  0.013231\n",
            "...         ...      ...      ...      ...      ...           ...       ...\n",
            "3791 2006-11-17  1582.71  1585.75  1571.44  1573.54           NaN  0.025816\n",
            "3792 2006-11-16  1595.71  1604.86  1580.79  1582.04           NaN  0.005402\n",
            "3793 2006-11-15  1603.85  1607.38  1591.15  1592.00           NaN  0.006296\n",
            "3794 2006-11-14  1584.70  1601.20  1584.50  1596.42           NaN  0.002776\n",
            "3795 2006-11-13  1573.72  1574.50  1559.43  1568.76           NaN -0.017326\n",
            "\n",
            "[3796 rows x 7 columns]\n"
          ]
        }
      ]
    }
  ]
}