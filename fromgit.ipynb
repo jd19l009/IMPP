{
  "nbformat": 4,
  "nbformat_minor": 0,
  "metadata": {
    "colab": {
      "provenance": [],
      "mount_file_id": "1VbFjW9lhK-UpD8ONkDLjO1RaffgZSCDl",
      "authorship_tag": "ABX9TyO93tznLt77kUDlwjGFabRu",
      "include_colab_link": true
    },
    "kernelspec": {
      "name": "python3",
      "display_name": "Python 3"
    },
    "language_info": {
      "name": "python"
    }
  },
  "cells": [
    {
      "cell_type": "markdown",
      "metadata": {
        "id": "view-in-github",
        "colab_type": "text"
      },
      "source": [
        "<a href=\"https://colab.research.google.com/github/jd19l009/IMPP/blob/main/fromgit.ipynb\" target=\"_parent\"><img src=\"https://colab.research.google.com/assets/colab-badge.svg\" alt=\"Open In Colab\"/></a>"
      ]
    },
    {
      "cell_type": "markdown",
      "source": [
        "最初に作業スペースとしてGoogle Driveをマウント"
      ],
      "metadata": {
        "id": "dofHpnPkdP7F"
      }
    },
    {
      "cell_type": "code",
      "source": [
        "from google.colab import drive\n",
        "drive.mount('/content/drive')"
      ],
      "metadata": {
        "id": "47TsIn_r8wZ5"
      },
      "execution_count": null,
      "outputs": []
    },
    {
      "cell_type": "markdown",
      "source": [
        "モジュールをインストールし、システムが参照するルートパスを指定"
      ],
      "metadata": {
        "id": "zL6DZrYHdc9o"
      }
    },
    {
      "cell_type": "code",
      "source": [
        "!pip install XlsxWriter\n",
        "!pip install eventstudy\n",
        "!git clone https://github.com/LemaireJean-Baptiste/eventstudy.git \"drive/My Drive/Colab Notebooks/temp\"\n",
        "import sys\n",
        "sys.path.append('/content/drive/MyDrive/Colab Notebooks/temp')"
      ],
      "metadata": {
        "id": "jj-gjP_CQDIC"
      },
      "execution_count": null,
      "outputs": []
    },
    {
      "cell_type": "markdown",
      "source": [
        "各種モジュールをインポート"
      ],
      "metadata": {
        "id": "HHHbdHMldzEa"
      }
    },
    {
      "cell_type": "code",
      "source": [
        "import eventstudy as es\n",
        "from eventstudy import excelExporter\n",
        "import numpy as np\n",
        "import seaborn as sns\n",
        "import matplotlib.pyplot as plt\n",
        "import pandas_datareader as pdr\n",
        "from pandas_datareader.stooq import StooqDailyReader\n",
        "import datetime as dt\n",
        "import seaborn as sns\n",
        "import pandas as pd\n",
        "import matplotlib.pyplot as plt"
      ],
      "metadata": {
        "id": "PnoY260d_Ct5"
      },
      "execution_count": 184,
      "outputs": []
    },
    {
      "cell_type": "markdown",
      "source": [
        "対象企業のリターンデータのCSVとFama3Factorデータの読み込み"
      ],
      "metadata": {
        "id": "nIHlIO3UalR8"
      }
    },
    {
      "cell_type": "code",
      "source": [
        "#es.Single.import_returns('/content/drive/My Drive/Colab Notebooks/temp/example/returns_GAFAM.csv')\n",
        "es.Single.import_returns('/content/drive/MyDrive/Colab Notebooks/temp/example/mm.csv')\n",
        "#es.Single.import_FamaFrench('/content/drive/My Drive/Colab Notebooks/temp/example/famafrench.csv')"
      ],
      "metadata": {
        "id": "Sb87AIp7dNcj"
      },
      "execution_count": 185,
      "outputs": []
    },
    {
      "cell_type": "code",
      "source": [
        "#本庶氏が小野薬品を提訴（令和2年（ワ）第5608）（有意差なし）\n",
        "source = [{\n",
        "    \"security_ticker\": \"ONO\",\n",
        "    \"market_ticker\": 'TOPIX',\n",
        "    \"event_date\": '2020-06-05',\n",
        "}]"
      ],
      "metadata": {
        "id": "kCcp1bEFp6yz"
      },
      "execution_count": 285,
      "outputs": []
    },
    {
      "cell_type": "code",
      "source": [
        "#和解が成立し、小野薬品が総額280億円を支払う（有意差なし）\n",
        "source = [{\n",
        "    \"security_ticker\": \"ONO\",\n",
        "    \"market_ticker\": 'TOPIX',\n",
        "    \"event_date\": '2021-11-12',\n",
        "}]"
      ],
      "metadata": {
        "id": "25Ebxpq0WFzx"
      },
      "execution_count": 287,
      "outputs": []
    },
    {
      "cell_type": "code",
      "source": [
        "#本庶氏ノーベル賞受賞決定\n",
        "source = [{\n",
        "    \"security_ticker\": \"ONO\",\n",
        "    \"market_ticker\": 'TOPIX',\n",
        "    \"event_date\": '2018-10-01',\n",
        "}]"
      ],
      "metadata": {
        "id": "DXG6vqhfqX6A"
      },
      "execution_count": 289,
      "outputs": []
    },
    {
      "cell_type": "code",
      "source": [
        "#通期業績予想の修正に関するお知らせ（正の有意差あり）\n",
        "source = [{\n",
        "    \"security_ticker\": \"ONO\",\n",
        "    \"market_ticker\": 'TOPIX',\n",
        "    \"event_date\": '2021-05-13',\n",
        "}]"
      ],
      "metadata": {
        "id": "tnbRuCoBXGkh"
      },
      "execution_count": 292,
      "outputs": []
    },
    {
      "cell_type": "markdown",
      "source": [
        "イベントスタディの実行（イベントウィンドウ等の設定）"
      ],
      "metadata": {
        "id": "qQM06soza1-O"
      }
    },
    {
      "cell_type": "code",
      "source": [
        "results = []\n",
        "results_full = []\n",
        "for item in source:\n",
        "    event = es.Single.market_model(\n",
        "        security_ticker = item['security_ticker'],\n",
        "        market_ticker = item['market_ticker'],\n",
        "        event_date = np.datetime64(item['event_date']),\n",
        "        event_window = (-5,10), \n",
        "        estimation_size = 60,\n",
        "        buffer_size = 60\n",
        "    )\n",
        "results_full.append(event)\n",
        "event.plot(AR=True,confidence=.95)\n",
        "plt.show()\n",
        "event.results(decimals=[3,5,3,5,2,2])"
      ],
      "metadata": {
        "colab": {
          "base_uri": "https://localhost:8080/",
          "height": 799
        },
        "id": "5E5YixsoAkoY",
        "outputId": "227dadef-8e00-41fc-9255-d3d6c1bfc4f5"
      },
      "execution_count": 294,
      "outputs": [
        {
          "output_type": "display_data",
          "data": {
            "text/plain": [
              "<Figure size 432x288 with 1 Axes>"
            ],
            "image/png": "[encoded data removed]"
          },
          "metadata": {
            "needs_background": "light"
          }
        },
        {
          "output_type": "execute_result",
          "data": {
            "text/plain": [
              "       AR  Std. E. AR        CAR  Std. E. CAR  T-stat  P-value\n",
              "-5 -0.001     0.01375     -0.001      0.01375   -0.07     0.94\n",
              "-4 -0.009     0.01375      -0.01      0.01945   -0.49     0.63\n",
              "-3  0.035     0.01375      0.025      0.02382    1.06     0.29\n",
              "-2  0.066     0.01375  0.091 ***      0.02750    3.32     0.00\n",
              "-1  0.025     0.01375  0.116 ***      0.03075    3.78     0.00\n",
              "0  -0.020     0.01375   0.096 **      0.03368    2.84     0.01\n",
              "1   0.017     0.01375  0.113 ***      0.03638    3.11     0.00\n",
              "2  -0.006     0.01375   0.107 **      0.03889    2.75     0.01\n",
              "3  -0.012     0.01375   0.095 **      0.04125    2.31     0.02\n",
              "4   0.008     0.01375   0.103 **      0.04348    2.37     0.02\n",
              "5  -0.010     0.01375    0.093 *      0.04561    2.05     0.05\n",
              "6   0.006     0.01375     0.1 **      0.04764    2.09     0.04\n",
              "7   0.011     0.01375    0.11 **      0.04958    2.22     0.03\n",
              "8   0.012     0.01375   0.122 **      0.05145    2.37     0.02\n",
              "9  -0.019     0.01375    0.103 *      0.05326    1.93     0.06\n",
              "10  0.004     0.01375    0.106 *      0.05500    1.93     0.06"
            ],
            "text/html": [
              "\n",
              "  <div id=\"df-e2a082ac-65ed-4100-b869-d0ee8af4f583\">\n",
              "    <div class=\"colab-df-container\">\n",
              "      <div>\n",
              "<style scoped>\n",
              "    .dataframe tbody tr th:only-of-type {\n",
              "        vertical-align: middle;\n",
              "    }\n",
              "\n",
              "    .dataframe tbody tr th {\n",
              "        vertical-align: top;\n",
              "    }\n",
              "\n",
              "    .dataframe thead th {\n",
              "        text-align: right;\n",
              "    }\n",
              "</style>\n",
              "<table border=\"1\" class=\"dataframe\">\n",
              "  <thead>\n",
              "    <tr style=\"text-align: right;\">\n",
              "      <th></th>\n",
              "      <th>AR</th>\n",
              "      <th>Std. E. AR</th>\n",
              "      <th>CAR</th>\n",
              "      <th>Std. E. CAR</th>\n",
              "      <th>T-stat</th>\n",
              "      <th>P-value</th>\n",
              "    </tr>\n",
              "  </thead>\n",
              "  <tbody>\n",
              "    <tr>\n",
              "      <th>-5</th>\n",
              "      <td>-0.001</td>\n",
              "      <td>0.01375</td>\n",
              "      <td>-0.001</td>\n",
              "      <td>0.01375</td>\n",
              "      <td>-0.07</td>\n",
              "      <td>0.94</td>\n",
              "    </tr>\n",
              "    <tr>\n",
              "      <th>-4</th>\n",
              "      <td>-0.009</td>\n",
              "      <td>0.01375</td>\n",
              "      <td>-0.01</td>\n",
              "      <td>0.01945</td>\n",
              "      <td>-0.49</td>\n",
              "      <td>0.63</td>\n",
              "    </tr>\n",
              "    <tr>\n",
              "      <th>-3</th>\n",
              "      <td>0.035</td>\n",
              "      <td>0.01375</td>\n",
              "      <td>0.025</td>\n",
              "      <td>0.02382</td>\n",
              "      <td>1.06</td>\n",
              "      <td>0.29</td>\n",
              "    </tr>\n",
              "    <tr>\n",
              "      <th>-2</th>\n",
              "      <td>0.066</td>\n",
              "      <td>0.01375</td>\n",
              "      <td>0.091 ***</td>\n",
              "      <td>0.02750</td>\n",
              "      <td>3.32</td>\n",
              "      <td>0.00</td>\n",
              "    </tr>\n",
              "    <tr>\n",
              "      <th>-1</th>\n",
              "      <td>0.025</td>\n",
              "      <td>0.01375</td>\n",
              "      <td>0.116 ***</td>\n",
              "      <td>0.03075</td>\n",
              "      <td>3.78</td>\n",
              "      <td>0.00</td>\n",
              "    </tr>\n",
              "    <tr>\n",
              "      <th>0</th>\n",
              "      <td>-0.020</td>\n",
              "      <td>0.01375</td>\n",
              "      <td>0.096 **</td>\n",
              "      <td>0.03368</td>\n",
              "      <td>2.84</td>\n",
              "      <td>0.01</td>\n",
              "    </tr>\n",
              "    <tr>\n",
              "      <th>1</th>\n",
              "      <td>0.017</td>\n",
              "      <td>0.01375</td>\n",
              "      <td>0.113 ***</td>\n",
              "      <td>0.03638</td>\n",
              "      <td>3.11</td>\n",
              "      <td>0.00</td>\n",
              "    </tr>\n",
              "    <tr>\n",
              "      <th>2</th>\n",
              "      <td>-0.006</td>\n",
              "      <td>0.01375</td>\n",
              "      <td>0.107 **</td>\n",
              "      <td>0.03889</td>\n",
              "      <td>2.75</td>\n",
              "      <td>0.01</td>\n",
              "    </tr>\n",
              "    <tr>\n",
              "      <th>3</th>\n",
              "      <td>-0.012</td>\n",
              "      <td>0.01375</td>\n",
              "      <td>0.095 **</td>\n",
              "      <td>0.04125</td>\n",
              "      <td>2.31</td>\n",
              "      <td>0.02</td>\n",
              "    </tr>\n",
              "    <tr>\n",
              "      <th>4</th>\n",
              "      <td>0.008</td>\n",
              "      <td>0.01375</td>\n",
              "      <td>0.103 **</td>\n",
              "      <td>0.04348</td>\n",
              "      <td>2.37</td>\n",
              "      <td>0.02</td>\n",
              "    </tr>\n",
              "    <tr>\n",
              "      <th>5</th>\n",
              "      <td>-0.010</td>\n",
              "      <td>0.01375</td>\n",
              "      <td>0.093 *</td>\n",
              "      <td>0.04561</td>\n",
              "      <td>2.05</td>\n",
              "      <td>0.05</td>\n",
              "    </tr>\n",
              "    <tr>\n",
              "      <th>6</th>\n",
              "      <td>0.006</td>\n",
              "      <td>0.01375</td>\n",
              "      <td>0.1 **</td>\n",
              "      <td>0.04764</td>\n",
              "      <td>2.09</td>\n",
              "      <td>0.04</td>\n",
              "    </tr>\n",
              "    <tr>\n",
              "      <th>7</th>\n",
              "      <td>0.011</td>\n",
              "      <td>0.01375</td>\n",
              "      <td>0.11 **</td>\n",
              "      <td>0.04958</td>\n",
              "      <td>2.22</td>\n",
              "      <td>0.03</td>\n",
              "    </tr>\n",
              "    <tr>\n",
              "      <th>8</th>\n",
              "      <td>0.012</td>\n",
              "      <td>0.01375</td>\n",
              "      <td>0.122 **</td>\n",
              "      <td>0.05145</td>\n",
              "      <td>2.37</td>\n",
              "      <td>0.02</td>\n",
              "    </tr>\n",
              "    <tr>\n",
              "      <th>9</th>\n",
              "      <td>-0.019</td>\n",
              "      <td>0.01375</td>\n",
              "      <td>0.103 *</td>\n",
              "      <td>0.05326</td>\n",
              "      <td>1.93</td>\n",
              "      <td>0.06</td>\n",
              "    </tr>\n",
              "    <tr>\n",
              "      <th>10</th>\n",
              "      <td>0.004</td>\n",
              "      <td>0.01375</td>\n",
              "      <td>0.106 *</td>\n",
              "      <td>0.05500</td>\n",
              "      <td>1.93</td>\n",
              "      <td>0.06</td>\n",
              "    </tr>\n",
              "  </tbody>\n",
              "</table>\n",
              "</div>\n",
              "      <button class=\"colab-df-convert\" onclick=\"convertToInteractive('df-e2a082ac-65ed-4100-b869-d0ee8af4f583')\"\n",
              "              title=\"Convert this dataframe to an interactive table.\"\n",
              "              style=\"display:none;\">\n",
              "        \n",
              "  <svg xmlns=\"http://www.w3.org/2000/svg\" height=\"24px\"viewBox=\"0 0 24 24\"\n",
              "       width=\"24px\">\n",
              "    <path d=\"M0 0h24v24H0V0z\" fill=\"none\"/>\n",
              "    <path d=\"M18.56 5.44l.94 2.06.94-2.06 2.06-.94-2.06-.94-.94-2.06-.94 2.06-2.06.94zm-11 1L8.5 8.5l.94-2.06 2.06-.94-2.06-.94L8.5 2.5l-.94 2.06-2.06.94zm10 10l.94 2.06.94-2.06 2.06-.94-2.06-.94-.94-2.06-.94 2.06-2.06.94z\"/><path d=\"M17.41 7.96l-1.37-1.37c-.4-.4-.92-.59-1.43-.59-.52 0-1.04.2-1.43.59L10.3 9.45l-7.72 7.72c-.78.78-.78 2.05 0 2.83L4 21.41c.39.39.9.59 1.41.59.51 0 1.02-.2 1.41-.59l7.78-7.78 2.81-2.81c.8-.78.8-2.07 0-2.86zM5.41 20L4 18.59l7.72-7.72 1.47 1.35L5.41 20z\"/>\n",
              "  </svg>\n",
              "      </button>\n",
              "      \n",
              "  <style>\n",
              "    .colab-df-container {\n",
              "      display:flex;\n",
              "      flex-wrap:wrap;\n",
              "      gap: 12px;\n",
              "    }\n",
              "\n",
              "    .colab-df-convert {\n",
              "      background-color: #E8F0FE;\n",
              "      border: none;\n",
              "      border-radius: 50%;\n",
              "      cursor: pointer;\n",
              "      display: none;\n",
              "      fill: #1967D2;\n",
              "      height: 32px;\n",
              "      padding: 0 0 0 0;\n",
              "      width: 32px;\n",
              "    }\n",
              "\n",
              "    .colab-df-convert:hover {\n",
              "      background-color: #E2EBFA;\n",
              "      box-shadow: 0px 1px 2px rgba(60, 64, 67, 0.3), 0px 1px 3px 1px rgba(60, 64, 67, 0.15);\n",
              "      fill: #174EA6;\n",
              "    }\n",
              "\n",
              "    [theme=dark] .colab-df-convert {\n",
              "      background-color: #3B4455;\n",
              "      fill: #D2E3FC;\n",
              "    }\n",
              "\n",
              "    [theme=dark] .colab-df-convert:hover {\n",
              "      background-color: #434B5C;\n",
              "      box-shadow: 0px 1px 3px 1px rgba(0, 0, 0, 0.15);\n",
              "      filter: drop-shadow(0px 1px 2px rgba(0, 0, 0, 0.3));\n",
              "      fill: #FFFFFF;\n",
              "    }\n",
              "  </style>\n",
              "\n",
              "      <script>\n",
              "        const buttonEl =\n",
              "          document.querySelector('#df-e2a082ac-65ed-4100-b869-d0ee8af4f583 button.colab-df-convert');\n",
              "        buttonEl.style.display =\n",
              "          google.colab.kernel.accessAllowed ? 'block' : 'none';\n",
              "\n",
              "        async function convertToInteractive(key) {\n",
              "          const element = document.querySelector('#df-e2a082ac-65ed-4100-b869-d0ee8af4f583');\n",
              "          const dataTable =\n",
              "            await google.colab.kernel.invokeFunction('convertToInteractive',\n",
              "                                                     [key], {});\n",
              "          if (!dataTable) return;\n",
              "\n",
              "          const docLinkHtml = 'Like what you see? Visit the ' +\n",
              "            '<a target=\"_blank\" href=https://colab.research.google.com/notebooks/data_table.ipynb>data table notebook</a>'\n",
              "            + ' to learn more about interactive tables.';\n",
              "          element.innerHTML = '';\n",
              "          dataTable['output_type'] = 'display_data';\n",
              "          await google.colab.output.renderOutput(dataTable, element);\n",
              "          const docLink = document.createElement('div');\n",
              "          docLink.innerHTML = docLinkHtml;\n",
              "          element.appendChild(docLink);\n",
              "        }\n",
              "      </script>\n",
              "    </div>\n",
              "  </div>\n",
              "  "
            ]
          },
          "metadata": {},
          "execution_count": 294
        }
      ]
    },
    {
      "cell_type": "markdown",
      "source": [
        "以下、参考コード"
      ],
      "metadata": {
        "id": "8q1woUVCm75U"
      }
    },
    {
      "cell_type": "code",
      "source": [
        "start_date = dt.datetime(2010, 1, 1)\n",
        "end_date = dt.datetime(2022, 12, 31)\n",
        "\n",
        "df = pdr.DataReader('4528.JP', 'stooq', start_date, end_date)\n",
        "df['Returns'] = df['Close'].pct_change()\n",
        "df.to_csv('ONO.csv', columns=['Returns'])\n",
        "\n",
        "df = pdr.DataReader('^TPX', 'stooq', start_date, end_date)\n",
        "df['Returns'] = df['Close'].pct_change()\n",
        "df.to_csv('TOPIX.csv', columns=['Returns'])\n"
      ],
      "metadata": {
        "id": "A-sdoEK0NCDZ"
      },
      "execution_count": 65,
      "outputs": []
    },
    {
      "cell_type": "markdown",
      "source": [
        "CSVにデータを注ぎ出し、吐き出すコード"
      ],
      "metadata": {
        "id": "Zg-hk16UvSqf"
      }
    },
    {
      "cell_type": "code",
      "source": [
        "df = pdr.DataReader('4528.JP', 'stooq', start_date, end_date)\n",
        "df['Returns'] = df['Close'].pct_change()\n",
        "df.to_csv('mmc.csv', columns=['Returns'])\n",
        "df = pd.read_csv('mmc.csv', index_col=0)\n",
        "df.to_csv('mmc.csv')\n",
        "\n",
        "#df = pdr.DataReader('^TPX', 'stooq', start_date, end_date)\n",
        "#df['Returns'] = df['Close'].pct_change()\n",
        "#df.to_csv('mmc.csv', columns=['Returns'],mode='a')"
      ],
      "metadata": {
        "id": "tu-VDPTYsbLM"
      },
      "execution_count": null,
      "outputs": []
    },
    {
      "cell_type": "code",
      "source": [
        "def get_price(code):\n",
        "    df = pd.read_csv(f'https://stooq.com/q/d/l/?s={code}&i=d',index_col=0)\n",
        "    df.index = pd.to_datetime(df.index).tz_localize('Asia/Tokyo')\n",
        "    return df\n",
        "\n",
        "#df = get_price('4528.JP')\n",
        "#print(df.head)\n",
        "df = get_price('^TPX')\n",
        "print(df.head)\n"
      ],
      "metadata": {
        "colab": {
          "base_uri": "https://localhost:8080/"
        },
        "id": "1lwlEGaCrjJS",
        "outputId": "dbf43473-fd12-478f-b964-f81c9c4d5465"
      },
      "execution_count": 30,
      "outputs": [
        {
          "output_type": "stream",
          "name": "stdout",
          "text": [
            "<bound method NDFrame.head of                               Open     High      Low    Close        Volume\n",
            "Date                                                                       \n",
            "2004-03-31 00:00:00+09:00  1175.70  1180.65  1163.79  1179.23           NaN\n",
            "2004-04-01 00:00:00+09:00  1182.05  1185.34  1171.62  1175.01           NaN\n",
            "2004-04-02 00:00:00+09:00  1178.35  1187.50  1176.65  1184.20           NaN\n",
            "2004-04-05 00:00:00+09:00  1195.80  1202.33  1195.33  1199.24           NaN\n",
            "2004-04-06 00:00:00+09:00  1206.21  1210.02  1195.83  1209.44           NaN\n",
            "...                            ...      ...      ...      ...           ...\n",
            "2023-02-27 00:00:00+09:00  1983.27  1993.82  1983.16  1992.78  1.024924e+09\n",
            "2023-02-28 00:00:00+09:00  1997.64  2001.42  1990.61  1993.28  1.437105e+09\n",
            "2023-03-01 00:00:00+09:00  1989.38  1997.81  1984.88  1997.81  1.166763e+09\n",
            "2023-03-02 00:00:00+09:00  2001.67  2004.54  1991.10  1994.57  1.150589e+09\n",
            "2023-03-03 00:00:00+09:00  2005.31  2021.43  2001.98  2019.52  1.301635e+09\n",
            "\n",
            "[4633 rows x 5 columns]>\n"
          ]
        }
      ]
    },
    {
      "cell_type": "markdown",
      "source": [
        "Stooqから株価（4528.jp 小野薬品:ONO）を取得してプロット(1992-2022)"
      ],
      "metadata": {
        "id": "q0FzOdyLpkye"
      }
    },
    {
      "cell_type": "code",
      "source": [
        "start = datetime(2010, 1, 1)\n",
        "end = datetime(2022, 12, 31)\n",
        "brand = '4528.JP'\n",
        "stooq = StooqDailyReader(brand, start=start, end=end)\n",
        "data = stooq.read()\n",
        "plt.figure()\n",
        "data[['Open', 'High', 'Low', 'Close']].plot()\n",
        "plt.savefig('ONO.png')\n",
        "df = data\n",
        "df['ONO'] = df['Close'].pct_change()\n",
        "df = df.rename(columns={'Date':'date'})\n",
        "print(df)\n",
        "df.to_csv('/content/drive/MyDrive/Colab Notebooks/temp/example/ono.csv', columns=['ONO'])"
      ],
      "metadata": {
        "id": "RMLV02-1pN1C"
      },
      "execution_count": null,
      "outputs": []
    },
    {
      "cell_type": "markdown",
      "source": [
        "StooqからTOPIX(TPX)を取得してプロット(1992-2022)\n",
        "\n",
        "\n"
      ],
      "metadata": {
        "id": "Y8QUIL1bprrl"
      }
    },
    {
      "cell_type": "code",
      "source": [
        "start = datetime(2010, 1, 1)\n",
        "end = datetime(2022, 12, 31)\n",
        "brand = '^TPX'\n",
        "stooq = StooqDailyReader(brand, start=start, end=end)\n",
        "data = stooq.read()\n",
        "plt.figure()\n",
        "data[['Open', 'High', 'Low', 'Close']].plot()\n",
        "plt.savefig('TOPIX.png')\n",
        "df = data\n",
        "df['TOPIX'] = df['Close'].pct_change()\n",
        "print(df)\n",
        "df.to_csv('/content/drive/MyDrive/Colab Notebooks/temp/example/TOPIX.csv', columns=['TOPIX'])"
      ],
      "metadata": {
        "id": "vdDRvNDjpY6Z"
      },
      "execution_count": null,
      "outputs": []
    },
    {
      "cell_type": "code",
      "source": [
        "ip=DataReader(\"F-F_Research_Data_Factors\", \"famafrench\")\n",
        "ff3=ip[0].replace(-99.99,np.NaN).dropna().ix[:,0:3]\n",
        "ff3.describe()\n",
        "ff3.plot()"
      ],
      "metadata": {
        "id": "KyLTwNjFL7TZ"
      },
      "execution_count": null,
      "outputs": []
    },
    {
      "cell_type": "code",
      "source": [
        "#イベントスタディの対象企業とマーケットティッカー及びイベント日の指定\n",
        "event = es.Single.FamaFrench_3factor(\n",
        "    security_ticker = 'AAPL',\n",
        "    event_date = np.datetime64('2013-03-04'),\n",
        "    event_window = (-5,+10), \n",
        "    estimation_size = 300,\n",
        "    buffer_size = 30\n",
        ")\n",
        "results_full.append(event)\n",
        "event.plot(AR=True,confidence=.95)\n",
        "plt.show()\n",
        "event.results(decimals=[3,5,3,5,2,2])"
      ],
      "metadata": {
        "id": "mtdha6ZVLPOh"
      },
      "execution_count": null,
      "outputs": []
    },
    {
      "cell_type": "code",
      "source": [
        "df['Returns'] = df['Close'].pct_change()\n",
        "print(df)\n",
        "df.to_csv('ono.csv', columns=['Returns'])"
      ],
      "metadata": {
        "id": "egDgt0EKjbpo"
      },
      "execution_count": null,
      "outputs": []
    }
  ]
}